{
 "cells": [
  {
   "cell_type": "code",
   "execution_count": 3,
   "id": "cad1cd59-5f93-4f0d-9731-20b6d5509d6c",
   "metadata": {},
   "outputs": [
    {
     "data": {
      "application/vnd.jupyter.widget-view+json": {
       "model_id": "8be2012f3d12491fb1da1cf5e1944332",
       "version_major": 2,
       "version_minor": 0
      },
      "text/plain": [
       "VBox(children=(IntSlider(value=5, description='Slider:', max=10), Text(value='Hello!', description='Text:'), B…"
      ]
     },
     "metadata": {},
     "output_type": "display_data"
    }
   ],
   "source": [
    "import ipywidgets as widgets\n",
    "from IPython.display import display\n",
    "\n",
    "# Define some widgets\n",
    "slider = widgets.IntSlider(value=5, min=0, max=10, step=1, description='Slider:')\n",
    "text = widgets.Text(value='Hello!', description='Text:')\n",
    "button = widgets.Button(description='Click me!')\n",
    "\n",
    "# Define a function to handle button clicks\n",
    "def on_button_click(b):\n",
    "    print(f\"Button clicked. Slider value: {slider.value}, Text value: {text.value}\")\n",
    "\n",
    "# Attach the function to the button click event\n",
    "button.on_click(on_button_click)\n",
    "\n",
    "# Display the widgets in a vertical box layout\n",
    "display(widgets.VBox([slider, text, button]))"
   ]
  },
  {
   "cell_type": "code",
   "execution_count": null,
   "id": "0db1e546",
   "metadata": {},
   "outputs": [],
   "source": []
  }
 ],
 "metadata": {
  "kernelspec": {
   "display_name": "Python 3 (ipykernel)",
   "language": "python",
   "name": "python3"
  },
  "language_info": {
   "codemirror_mode": {
    "name": "ipython",
    "version": 3
   },
   "file_extension": ".py",
   "mimetype": "text/x-python",
   "name": "python",
   "nbconvert_exporter": "python",
   "pygments_lexer": "ipython3",
   "version": "3.10.9"
  }
 },
 "nbformat": 4,
 "nbformat_minor": 5
}
